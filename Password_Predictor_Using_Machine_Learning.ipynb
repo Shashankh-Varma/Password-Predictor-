{
  "nbformat": 4,
  "nbformat_minor": 0,
  "metadata": {
    "colab": {
      "provenance": []
    },
    "kernelspec": {
      "name": "python3",
      "display_name": "Python 3"
    },
    "language_info": {
      "name": "python"
    }
  },
  "cells": [
    {
      "source": [
        "import pandas as pd\n",
        "import numpy as np\n",
        "import matplotlib.pyplot as plt\n",
        "import seaborn as sns\n",
        "import warnings\n",
        "warnings.filterwarnings('ignore')"
      ],
      "cell_type": "code",
      "metadata": {
        "id": "-FSbzT9NCKnJ"
      },
      "execution_count": null,
      "outputs": []
    },
    {
      "cell_type": "code",
      "source": [
        "data = pd.read_csv('/content/data.csv.zip',error_bad_lines=False)"
      ],
      "metadata": {
        "id": "mw-V_StpxFbT"
      },
      "execution_count": null,
      "outputs": []
    },
    {
      "cell_type": "code",
      "source": [
        "data['strength'].unique()"
      ],
      "metadata": {
        "id": "ga-Lml8i0Yd0",
        "colab": {
          "base_uri": "https://localhost:8080/"
        },
        "outputId": "d12616cf-3763-47c6-a1f2-9a3f8ffef4f6"
      },
      "execution_count": null,
      "outputs": [
        {
          "output_type": "execute_result",
          "data": {
            "text/plain": [
              "array([1, 2, 0])"
            ]
          },
          "metadata": {},
          "execution_count": 9
        }
      ]
    },
    {
      "cell_type": "code",
      "source": [
        "data.isnull().sum()"
      ],
      "metadata": {
        "colab": {
          "base_uri": "https://localhost:8080/"
        },
        "id": "V2ajO5_7FjF2",
        "outputId": "171803c1-d91a-4c11-d230-c0201cfb8bd6"
      },
      "execution_count": null,
      "outputs": [
        {
          "output_type": "execute_result",
          "data": {
            "text/plain": [
              "password    1\n",
              "strength    0\n",
              "dtype: int64"
            ]
          },
          "metadata": {},
          "execution_count": 10
        }
      ]
    },
    {
      "cell_type": "code",
      "source": [
        "data[data['password'].isnull()]"
      ],
      "metadata": {
        "colab": {
          "base_uri": "https://localhost:8080/",
          "height": 300
        },
        "id": "NjphG_j-Fwdq",
        "outputId": "3c221b67-9628-4b07-ad1e-7b8398ea5bf4"
      },
      "execution_count": null,
      "outputs": [
        {
          "output_type": "execute_result",
          "data": {
            "text/plain": [
              "       password  strength\n",
              "367579      NaN         0"
            ],
            "text/html": [
              "\n",
              "  <div id=\"df-e22c7d6a-97ed-49e6-8388-ba02e5aedfef\" class=\"colab-df-container\">\n",
              "    <div>\n",
              "<style scoped>\n",
              "    .dataframe tbody tr th:only-of-type {\n",
              "        vertical-align: middle;\n",
              "    }\n",
              "\n",
              "    .dataframe tbody tr th {\n",
              "        vertical-align: top;\n",
              "    }\n",
              "\n",
              "    .dataframe thead th {\n",
              "        text-align: right;\n",
              "    }\n",
              "</style>\n",
              "<table border=\"1\" class=\"dataframe\">\n",
              "  <thead>\n",
              "    <tr style=\"text-align: right;\">\n",
              "      <th></th>\n",
              "      <th>password</th>\n",
              "      <th>strength</th>\n",
              "    </tr>\n",
              "  </thead>\n",
              "  <tbody>\n",
              "    <tr>\n",
              "      <th>367579</th>\n",
              "      <td>NaN</td>\n",
              "      <td>0</td>\n",
              "    </tr>\n",
              "  </tbody>\n",
              "</table>\n",
              "</div>\n",
              "    <div class=\"colab-df-buttons\">\n",
              "\n",
              "  <div class=\"colab-df-container\">\n",
              "    <button class=\"colab-df-convert\" onclick=\"convertToInteractive('df-e22c7d6a-97ed-49e6-8388-ba02e5aedfef')\"\n",
              "            title=\"Convert this dataframe to an interactive table.\"\n",
              "            style=\"display:none;\">\n",
              "\n",
              "  <svg xmlns=\"http://www.w3.org/2000/svg\" height=\"24px\" viewBox=\"0 -960 960 960\">\n",
              "    <path d=\"M120-120v-720h720v720H120Zm60-500h600v-160H180v160Zm220 220h160v-160H400v160Zm0 220h160v-160H400v160ZM180-400h160v-160H180v160Zm440 0h160v-160H620v160ZM180-180h160v-160H180v160Zm440 0h160v-160H620v160Z\"/>\n",
              "  </svg>\n",
              "    </button>\n",
              "\n",
              "  <style>\n",
              "    .colab-df-container {\n",
              "      display:flex;\n",
              "      gap: 12px;\n",
              "    }\n",
              "\n",
              "    .colab-df-convert {\n",
              "      background-color: #E8F0FE;\n",
              "      border: none;\n",
              "      border-radius: 50%;\n",
              "      cursor: pointer;\n",
              "      display: none;\n",
              "      fill: #1967D2;\n",
              "      height: 32px;\n",
              "      padding: 0 0 0 0;\n",
              "      width: 32px;\n",
              "    }\n",
              "\n",
              "    .colab-df-convert:hover {\n",
              "      background-color: #E2EBFA;\n",
              "      box-shadow: 0px 1px 2px rgba(60, 64, 67, 0.3), 0px 1px 3px 1px rgba(60, 64, 67, 0.15);\n",
              "      fill: #174EA6;\n",
              "    }\n",
              "\n",
              "    .colab-df-buttons div {\n",
              "      margin-bottom: 4px;\n",
              "    }\n",
              "\n",
              "    [theme=dark] .colab-df-convert {\n",
              "      background-color: #3B4455;\n",
              "      fill: #D2E3FC;\n",
              "    }\n",
              "\n",
              "    [theme=dark] .colab-df-convert:hover {\n",
              "      background-color: #434B5C;\n",
              "      box-shadow: 0px 1px 3px 1px rgba(0, 0, 0, 0.15);\n",
              "      filter: drop-shadow(0px 1px 2px rgba(0, 0, 0, 0.3));\n",
              "      fill: #FFFFFF;\n",
              "    }\n",
              "  </style>\n",
              "\n",
              "    <script>\n",
              "      const buttonEl =\n",
              "        document.querySelector('#df-e22c7d6a-97ed-49e6-8388-ba02e5aedfef button.colab-df-convert');\n",
              "      buttonEl.style.display =\n",
              "        google.colab.kernel.accessAllowed ? 'block' : 'none';\n",
              "\n",
              "      async function convertToInteractive(key) {\n",
              "        const element = document.querySelector('#df-e22c7d6a-97ed-49e6-8388-ba02e5aedfef');\n",
              "        const dataTable =\n",
              "          await google.colab.kernel.invokeFunction('convertToInteractive',\n",
              "                                                    [key], {});\n",
              "        if (!dataTable) return;\n",
              "\n",
              "        const docLinkHtml = 'Like what you see? Visit the ' +\n",
              "          '<a target=\"_blank\" href=https://colab.research.google.com/notebooks/data_table.ipynb>data table notebook</a>'\n",
              "          + ' to learn more about interactive tables.';\n",
              "        element.innerHTML = '';\n",
              "        dataTable['output_type'] = 'display_data';\n",
              "        await google.colab.output.renderOutput(dataTable, element);\n",
              "        const docLink = document.createElement('div');\n",
              "        docLink.innerHTML = docLinkHtml;\n",
              "        element.appendChild(docLink);\n",
              "      }\n",
              "    </script>\n",
              "  </div>\n",
              "\n",
              "\n",
              "    </div>\n",
              "  </div>\n"
            ]
          },
          "metadata": {},
          "execution_count": 11
        },
        {
          "output_type": "display_data",
          "data": {
            "text/plain": [
              "<google.colab._quickchart_helpers.SectionTitle at 0x7a4b00731210>"
            ],
            "text/html": [
              "<h4 class=\"colab-quickchart-section-title\">Time series</h4>\n",
              "<style>\n",
              "  .colab-quickchart-section-title {\n",
              "      clear: both;\n",
              "  }\n",
              "</style>"
            ]
          },
          "metadata": {}
        },
        {
          "output_type": "display_data",
          "data": {
            "text/plain": [
              "from matplotlib import pyplot as plt\n",
              "import seaborn as sns\n",
              "def _plot_series(series, series_name, series_index=0):\n",
              "  from matplotlib import pyplot as plt\n",
              "  import seaborn as sns\n",
              "  palette = list(sns.palettes.mpl_palette('Dark2'))\n",
              "  counted = (series['index']\n",
              "                .value_counts()\n",
              "              .reset_index(name='counts')\n",
              "              .rename({'index': 'index'}, axis=1)\n",
              "              .sort_values('index', ascending=True))\n",
              "  xs = counted['index']\n",
              "  ys = counted['counts']\n",
              "  plt.plot(xs, ys, label=series_name, color=palette[series_index % len(palette)])\n",
              "\n",
              "fig, ax = plt.subplots(figsize=(10, 5.2), layout='constrained')\n",
              "df_sorted = _df_0.sort_values('index', ascending=True)\n",
              "_plot_series(df_sorted, '')\n",
              "sns.despine(fig=fig, ax=ax)\n",
              "plt.xlabel('index')\n",
              "_ = plt.ylabel('count()')"
            ],
            "text/html": [
              "      <div class=\"colab-quickchart-chart-with-code\" id=\"chart-a6fa334e-9c9e-4c03-8e49-d9f11393b80e\">\n",
              "        <img style=\"width: 180px;\" src=\"data:image/png;base64,iVBORw0KGgoAAAANSUhEUgAAA/MAAAITCAYAAABLz0yVAAAAOXRFWHRTb2Z0d2FyZQBNYXRwbG90\n",
              "bGliIHZlcnNpb24zLjcuMSwgaHR0cHM6Ly9tYXRwbG90bGliLm9yZy/bCgiHAAAACXBIWXMAAA9h\n",
              "AAAPYQGoP6dpAAAkvElEQVR4nO3dfZBV9X3H8c8CdVEUxIhgSpYVF1AEXOVhokYxMa3YKlUxxqZq\n",
              "SX3AmTpaqVWZhkYbK6amGGPTQTvURm2MKRCHSTNtE00Nihm0gLaoiRBwQQWj5UGtIrCnfzjZZiMo\n",
              "i3vd/ZHXa+aM3HvOufu7fufs8N5791JXVVUVAAAAoBg9unoBAAAAQMeIeQAAACiMmAcAAIDCiHkA\n",
              "AAAojJgHAACAwoh5AAAAKIyYBwAAgMKIeQAAACjMXh/zt912W1cvAQAAADrVXh/zzz//fFcvAQAA\n",
              "ADrVXh/zAAAAsLcR8wAAAFAYMQ8AAACFEfMAAABQGDEPAAAAhRHzAAAAUBgxDwAAAIUR8wAAAFAY\n",
              "MQ8AAACFEfMAAABQGDEPAAAAhRHzAAAAUBgxDwAAAIUR8wAAAFAYMQ8AAACFEfMAAABQGDEPAAAA\n",
              "hRHzAAAAUBgxDwAAAIUR8wAAAFAYMQ8AAACFEfMAAABQGDEPAAAAhRHzAAAAUBgxDwAAAIUR8wAA\n",
              "AFAYMQ8AAACFEfMAAABQGDEPAAAAhRHzAAAAUBgxDwAAAIUR8wAAAFAYMQ8AAACFEfMAAABQGDEP\n",
              "AAAAhRHzAAAAUBgxDwAAAIUR8wAAAFAYMQ8AAACFEfMAAABQGDEPAAAAhRHzAAAAUBgxDwAAAIUR\n",
              "8wAAAFAYMQ8AAACFEfMAAABQGDEPAAAAhRHzAAAAUBgxDwAAAIUR8wAAAFAYMQ8AAACFEfMAAABQ\n",
              "GDEPAAAAhRHzAAAAUBgxDwAAAIUR8wAAAFAYMQ8AAACFEfMAAABQGDEPAAAAhRHzAAAAUBgxDwAA\n",
              "AIWpacxfccUVaWxsTF1dXZYvX77L4+bOnZthw4bl8MMPzyWXXJJt27a1219VVT71qU/lwAMPrOVy\n",
              "AQAAoAg1jflzzjknjzzySIYMGbLLY1avXp2ZM2dm0aJFWblyZTZs2JA777yz3TG33nprDj/88Fou\n",
              "FQAAAIpR05g/6aSTMnjw4Pc8Zt68eZk8eXIGDRqUurq6XHbZZbnvvvva9q9YsSIPPPBArrvuuvf9\n",
              "elu3bs2WLVvabTt27PjAzwMAAAC6ky7/nfmWlpZ2r9w3NjampaUlSbJt27ZccsklueOOO9KzZ8/3\n",
              "faxZs2alX79+7bYlS5bUbO0AAADQFbo85t/LDTfckLPPPjtHHnnkbh0/Y8aMbN68ud02YcKEGq8S\n",
              "AAAAPly9unoBDQ0NWbVqVdvtNWvWpKGhIUny8MMPp6WlJX/7t3+b7du3Z8uWLWlsbMzjjz+eAQMG\n",
              "vOux6uvrU19f3+6+3XlFHwAAAErS5a/MT5kyJQsXLsz69etTVVXmzJmT8847L0myaNGiPP/881mz\n",
              "Zk0eeeSR9O3bN2vWrNlpyAMAAMCvi5rG/LRp0zJ48OCsW7cup556apqampIkF198cRYuXJgkGTp0\n",
              "aG644YaccMIJaWpqyoABAzJt2rRaLgsAAACKVldVVdXVi6il6dOnZ/bs2V29DAAAAOg0Xf42ewAA\n",
              "AKBjxDwAAAAURswDAABAYcQ8AAAAFEbMAwAAQGHEPAAAABRGzAMAAEBhxDwAAAAURswDAABAYcQ8\n",
              "AAAAFEbMAwAAQGHEPAAAABRGzAMAAEBhxDwAAAAURswDAABAYcQ8AAAAFEbMAwAAQGHEPAAAABRG\n",
              "zAMAAEBhxDwAAAAURswDAABAYcQ8AAAAFEbMAwAAQGHEPAAAABRGzAMAAEBhxDwAAAAURswDAABA\n",
              "YcQ8AAAAFEbMAwAAQGHEPAAAABRGzAMAAEBhxDwAAAAURswDAABAYcQ8AAAAFEbMAwAAQGHEPAAA\n",
              "ABRGzAMAAEBhxDwAAAAURswDAABAYcQ8AAAAFEbMAwAAQGHEPAAAABRGzAMAAEBhxDwAAAAURswD\n",
              "AABAYcQ8AAAAFEbMAwAAQGHEPAAAABRGzAMAAEBhxDwAAAAURswDAABAYcQ8AAAAFEbMAwAAQGHE\n",
              "PAAAABRGzAMAAEBhxDwAAAAURswDAABAYcQ8AAAAFEbMAwAAQGHEPAAAABRGzAMAAEBhxDwAAAAU\n",
              "RswDAABAYcQ8AAAAFEbMAwAAQGHEPAAAABRGzAMAAEBhxDwAAAAURswDAABAYcQ8AAAAFEbMAwAA\n",
              "QGHEPAAAABRGzAMAAEBhxDwAAAAURswDAABAYcQ8AAAAFEbMAwAAQGHEPAAAABSmpjF/xRVXpLGx\n",
              "MXV1dVm+fPkuj5s7d26GDRuWww8/PJdcckm2bduWJHnooYcyYcKEjBw5MkcddVSuueaatLa21nLJ\n",
              "AAAA0O3VNObPOeecPPLIIxkyZMguj1m9enVmzpyZRYsWZeXKldmwYUPuvPPOJEn//v3zrW99K08/\n",
              "/XT+8z//M4sXL87dd99dyyUDAABAt1fTmD/ppJMyePDg9zxm3rx5mTx5cgYNGpS6urpcdtllue++\n",
              "+5IkxxxzTIYOHZok6d27d5qbm7NmzZpdPtbWrVuzZcuWdtuOHTs67fkAAABAd9DlvzPf0tLS7pX7\n",
              "xsbGtLS0vOu49evXZ968eTn99NN3+VizZs1Kv3792m1LliypyboBAACgq3R5zO+OLVu25Iwzzsg1\n",
              "11yTcePG7fK4GTNmZPPmze22CRMmfIgrBQAAgNrr1dULaGhoyKpVq9pur1mzJg0NDW23X3vttUya\n",
              "NCm/93u/l+nTp7/nY9XX16e+vr7dfT179uzcBQMAAEAX6/JX5qdMmZKFCxdm/fr1qaoqc+bMyXnn\n",
              "nZckef311zNp0qRMmjQpX/jCF7p4pQAAANA91DTmp02blsGDB2fdunU59dRT09TUlCS5+OKLs3Dh\n",
              "wiTJ0KFDc8MNN+SEE05IU1NTBgwYkGnTpiVJbrvttixZsiQLFixIc3Nzmpub81d/9Ve1XDIAAAB0\n",
              "e3VVVVVdvYhamj59embPnt3VywAAAIBO0+VvswcAAAA6RswDAABAYcQ8AAAAFEbMAwAAQGHEPAAA\n",
              "ABRGzAMAAEBhxDwAAAAURswDAABAYcQ8AAAAFEbMAwAAQGHEPAAAABRGzAMAAEBhxDwAAAAURswD\n",
              "AABAYcQ8AAAAFEbMAwAAQGHEPAAAABRGzAMAAEBhxDwAAAAURswDAABAYcQ8AAAAFEbMAwAAQGHE\n",
              "PAAAABRGzAMAAEBhxDwAAAAURswDAABAYcQ8AAAAFEbMAwAAQGHEPAAAABRGzAMAAEBhxDwAAAAU\n",
              "RswDAABAYcQ8AAAAFEbMAwAAQGHEPAAAABRGzAMAAEBhxDwAAAAURswDAABAYcQ8AAAAFEbMAwAA\n",
              "QGHEPAAAABRGzAMAAEBhxDwAAAAURswDAABAYcQ8AAAAFEbMAwAAQGHEPAAAABRGzAMAAEBhxDwA\n",
              "AAAURswDAABAYcQ8AAAAFEbMAwAAQGHEPAAAABRGzAMAAEBhxDwAAAAURswDAABAYcQ8AAAAFEbM\n",
              "AwAAQGHEPAAAABRGzAMAAEBhxDwAAAAURswDAABAYcQ8AAAAFEbMAwAAQGF67clJTz/9dNatW5d9\n",
              "9903o0ePzoEHHtjJywIAAAB2Zbdj/rXXXstXvvKV/P3f/33222+/DBw4MG+99VZWrVqVCRMm5Npr\n",
              "r80pp5xSy7UCAAAA6UDMf/KTn8yFF16YZcuWZeDAgW33t7a2ZtGiRZkzZ05WrlyZadOm1WShAAAA\n",
              "wDt2O+YfffTR1NfXv+v+Hj16ZOLEiZk4cWK2bt3aqYsDAAAA3m23PwBvZyG/J8cAAAAAH8xux/zp\n",
              "p5+exYsX73Tfpk2b8jd/8ze54447Om1hAAAAwM7t9tvsb7rppsyYMSNPP/10xo8f3/YBeM8++2xe\n",
              "eOGF/PEf/3H+6I/+qJZrBQAAANKBmB8zZkz+5V/+JWvXrs3DDz+cdevWZb/99ssf/MEf5BOf+ER6\n",
              "9dqjf+UOAAAA6KAOF/jGjRtz/vnnt7vvqaeeypgxYzptUQAAAMCu7fbvzP/C1KlTd+s+AAAAoDZ2\n",
              "+5X5l19+OevXr8+bb76Z//qv/0pVVUmSzZs354033qjZAgEAAID2djvm77vvvnz1q1/Niy++mMmT\n",
              "J7fd369fv1xzzTU1WRwAAADwbrsd81deeWWuvPLKfOlLX8rMmTNruSYAAADgPXT4A/BmzpyZ1tbW\n",
              "rF+/Ptu3b2+7v6GhoVMXBgAAAOxchz8A7xvf+EYOPPDAjB49OmPHjs3YsWMzbty4nR57xRVXpLGx\n",
              "MXV1dVm+fPkuH3Pu3LkZNmxYDj/88FxyySXZtm3bbu0DAACAX0cdjvm//Mu/zOOPP55XX301P//5\n",
              "z/Pzn/88L7/88k6PPeecc/LII49kyJAhu3y81atXZ+bMmVm0aFFWrlyZDRs25M4773zffQAAAPDr\n",
              "qsMxf/DBB2fEiBG7dexJJ52UwYMHv+cx8+bNy+TJkzNo0KDU1dXlsssuy3333fe++wAAAODXVYd/\n",
              "Z/7MM8/MV7/61Xzuc59L79692+7v27fvHi2gpaWl3Sv3jY2NaWlped99O7N169Zs3bq13X07duzY\n",
              "o3UBAABAd9XhV+b//M//PNOnT8+gQYPSv3//HHjggenfv38t1tZhs2bNSr9+/dptS5Ys6eplAQAA\n",
              "QKfqcMy3tra2bTt27Gj7755qaGjI888/33Z7zZo1bZ+M/177dmbGjBnZvHlzu23ChAl7vDYAAADo\n",
              "jjoc851typQpWbhwYdavX5+qqjJnzpycd95577tvZ+rr69O3b992W8+ePT+spwIAAAAfig7HfI8e\n",
              "PdKzZ893bTszbdq0DB48OOvWrcupp56apqamJMnFF1+chQsXJkmGDh2aG264ISeccEKampoyYMCA\n",
              "TJs27X33AQAAwK+ruqqqqo6c8MYbb7T9+c0338zdd9+dHTt25M/+7M86fXGdYfr06Zk9e3ZXLwMA\n",
              "AAA6TYdfme/Tp0/bdvDBB2f69OmZN29eLdYGAAAA7MQH/p35Z599Nq+88kpnrAUAAADYDR3+d+b7\n",
              "9++furq6JMn27duTJLfffnvnrgoAAADYpQ7H/PLly///5F69MmjQIJ8YDwAAAB+iDsf8kCFD8r//\n",
              "+79tUd+/f//st99+nb0uAAAAYBc6HPOLFy/OlClTMmjQoCTJhg0bMn/+/Bx33HGdvjgAAADg3Toc\n",
              "87/49PoTTjghyTtxf9VVV+XHP/5xpy8OAAAAeLcOf5r9m2++2RbySXL88cfnrbfe6tRFAQAAALvW\n",
              "4Zjff//984Mf/KDt9oMPPpg+ffp06qIAAACAXevw2+y/9rWv5eyzz277BPvW1tYsWLCg0xcGAAAA\n",
              "7FyHY/7FF1/ME088kQ0bNiRJBg4cmCVLlnT6wgAAAICd6/Db7GfOnJkBAwZk1KhRGTVqVA4++ODM\n",
              "nDmzFmsDAAAAdqLDMf+r6urqsmPHjs5YCwAAALAbOhzzBxxwQBYvXtx2+9FHH80BBxzQqYsCAAAA\n",
              "dq3DvzP/13/91znrrLNyxBFHJEmee+65fOc73+n0hQEAAAA71+GYP+644/LMM8/kscceS/LOvzN/\n",
              "4IEHdva6AAAAgF3ocMwnSf/+/fM7v/M7nb0WAAAAYDd84A/AAwAAAD5cYh4AAAAKI+YBAACgMGIe\n",
              "AAAACiPmAQAAoDBiHgAAAAoj5gEAAKAwYh4AAAAKI+YBAACgMGIeAAAACiPmAQAAoDBiHgAAAAoj\n",
              "5gEAAKAwYh4AAAAKI+YBAACgMGIeAAAACiPmAQAAoDBiHgAAAAoj5gEAAKAwYh4AAAAKI+YBAACg\n",
              "MGIeAAAACiPmAQAAoDBiHgAAAAoj5gEAAKAwYh4AAAAKI+YBAACgMGIeAAAACiPmAQAAoDBiHgAA\n",
              "AAoj5gEAAKAwYh4AAAAKI+YBAACgMGIeAAAACiPmAQAAoDBiHgAAAAoj5gEAAKAwYh4AAAAKI+YB\n",
              "AACgMGIeAAAACiPmAQAAoDBiHgAAAAoj5gEAAKAwYh4AAAAKI+YBAACgMGIeAAAACiPmAQAAoDBi\n",
              "HgAAAAoj5gEAAKAwYh4AAAAKI+YBAACgMGIeAAAACiPmAQAAoDBiHgAAAAoj5gEAAKAwYh4AAAAK\n",
              "I+YBAACgMGIeAAAACiPmAQAAoDBiHgAAAAoj5gEAAKAwYh4AAAAKU9OYf+6553L88cdn+PDhGT9+\n",
              "fFasWPGuY1pbW3P11Vdn1KhROeKII3LRRRfl7bffbtv/5S9/OSNHjkxzc3M+/vGPZ8mSJbVcMgAA\n",
              "AHR7NY35adOm5dJLL81Pf/rTXHvttZk6deq7jpk7d26WLl2apUuX5plnnkmPHj1y2223JUmWL1+e\n",
              "v/u7v8uSJUuyfPnyXH755bn88struWQAAADo9moW8y+//HKeeOKJnH/++UmSKVOmZO3atVm5cmW7\n",
              "45588sl8+tOfzj777JO6urqcdtppueeee5IkdXV12bZtW954440kyaZNmzJ48OBdfs2tW7dmy5Yt\n",
              "7bYdO3bU6BkCAABA16hZzK9duzaHHnpoevXqleSdMG9oaEhLS0u748aOHZuFCxdmy5Yt2bZtW779\n",
              "7W9nzZo1SZKjjz46V111VQ477LAMHjw4t956a26//fZdfs1Zs2alX79+7TZvywcAAGBv0+UfgDd1\n",
              "6tRMmjQpEydOzMSJEzN8+PC2HwCsXr06CxYsyMqVK7Nu3bpcddVV+exnP7vLx5oxY0Y2b97cbpsw\n",
              "YcKH9VQAAADgQ1GzmP/Yxz6Wl156Kdu3b0+SVFWVlpaWNDQ0tDuurq4u119/fZYtW5bFixdn5MiR\n",
              "Oeqoo5Ik8+fPz+jRo/PRj340SfL5z38+jz76aLsPyPtl9fX16du3b7utZ8+etXqKAAAA0CVqFvOH\n",
              "HHJIjj322Nx7771J3gnzwYMHp6mpqd1xb731VjZu3JgkeeWVV3LzzTfnmmuuSZIMHTo0jz76aF5/\n",
              "/fUkyXe/+90MHz48++yzT62WDQAAAN1er1o++B133JGpU6fmpptuSt++fXPXXXclSS6++OJMnjw5\n",
              "kydPzubNm3PyySenR48eaW1tzZVXXpkzzjgjSXLWWWfl8ccfz7hx41JfX58+ffrkm9/8Zi2XDAAA\n",
              "AN1eXVVVVVcvopamT5+e2bNnd/UyAAAAoNN0+QfgAQAAAB0j5gEAAKAwYh4AAAAKI+YBAACgMGIe\n",
              "AAAACiPmAQAAoDBiHgAAAAoj5gEAAKAwYh4AAAAKI+YBAACgMGIeAAAACiPmAQAAoDBiHgAAAAoj\n",
              "5gEAAKAwYh4AAAAKI+YBAACgMGIeAAAACiPmAQAAoDBiHgAAAAoj5gEAAKAwYh4AAAAKI+YBAACg\n",
              "MGIeAAAACiPmAQAAoDBiHgAAAAoj5gEAAKAwYh4AAAAKI+YBAACgMGIeAAAACiPmAQAAoDBiHgAA\n",
              "AAoj5gEAAKAwYh4AAAAKI+YBAACgMGIeAAAACiPmAQAAoDBiHgAAAAoj5gEAAKAwYh4AAAAKI+YB\n",
              "AACgMGIeAAAACiPmAQAAoDBiHgAAAAoj5gEAAKAwYh4AAAAKI+YBAACgMGIeAAAACiPmAQAAoDBi\n",
              "HgAAAAoj5gEAAKAwYh4AAAAKI+YBAACgMGIeAAAACiPmAQAAoDBiHgAAAAoj5gEAAKAwYh4AAAAK\n",
              "I+YBAACgMGIeAAAACiPmAQAAoDBiHgAAAAoj5gEAAKAwYh4AAAAKI+YBAACgMGIeAAAACiPmAQAA\n",
              "oDBiHgAAAAoj5gEAAKAwYh4AAAAKI+YBAACgMGIeAAAACiPmAQAAoDBiHgAAAAoj5gEAAKAwYh4A\n",
              "AAAKI+YBAACgMGIeAAAACiPmAQAAoDA1jfnnnnsuxx9/fIYPH57x48dnxYoV7zqmtbU1V199dUaN\n",
              "GpUjjjgiF110Ud5+++22/S0tLTnjjDMyYsSIjBw5MrfffnstlwwAAADdXk1jftq0abn00kvz05/+\n",
              "NNdee22mTp36rmPmzp2bpUuXZunSpXnmmWfSo0eP3HbbbUmSqqpy1lln5cILL8xPfvKTPP300zn3\n",
              "3HNruWQAAADo9moW8y+//HKeeOKJnH/++UmSKVOmZO3atVm5cmW745588sl8+tOfzj777JO6urqc\n",
              "dtppueeee5IkDz74YOrr6/OZz3ym7fiBAwfu8mtu3bo1W7Zsabft2LGjBs8OAAAAuk7NYn7t2rU5\n",
              "9NBD06tXryRJXV1dGhoa0tLS0u64sWPHZuHChdmyZUu2bduWb3/721mzZk2S5Omnn86AAQNy3nnn\n",
              "5ZhjjslZZ52Vn/3sZ7v8mrNmzUq/fv3abUuWLKnVUwQAAIAu0eUfgDd16tRMmjQpEydOzMSJEzN8\n",
              "+PC2HwBs3749Dz30UGbOnJlly5bl1FNPfc+32c+YMSObN29ut02YMOHDeioAAADwoahZzH/sYx/L\n",
              "Sy+9lO3btyd55/ffW1pa0tDQ0O64urq6XH/99Vm2bFkWL16ckSNH5qijjkqSNDQ05Jhjjmm7fcEF\n",
              "F2Tp0qXZtm3bTr9mfX19+vbt227r2bNnrZ4iAAAAdImaxfwhhxySY489Nvfee2+SZP78+Rk8eHCa\n",
              "mpraHffWW29l48aNSZJXXnklN998c6655pokyWmnnZZ169blhRdeSJJ873vfy5FHHpnf+I3fqNWy\n",
              "AQAAoNvrVcsHv+OOOzJ16tTcdNNN6du3b+66664kycUXX5zJkydn8uTJ2bx5c04++eT06NEjra2t\n",
              "ufLKK3PGGWckSfr06ZM5c+bkd3/3d1NVVfr165dvfetbtVwyAAAAdHt1VVVVXb2IWpo+fXpmz57d\n",
              "1csAAACATtPlH4AHAAAAdIyYBwAAgMKIeQAAACiMmAcAAIDCiHkAAAAojJgHAACAwoh5AAAAKIyY\n",
              "BwAAgMKIeQAAACiMmAcAAIDCiHkAAAAojJgHAACAwoh5AAAAKIyYBwAAgMKIeQAAACiMmAcAAIDC\n",
              "iHkAAAAojJgHAACAwoh5AAAAKIyYBwAAgMKIeQAAACiMmAcAAIDCiHkAAAAojJgHAACAwoh5AAAA\n",
              "KIyYBwAAgMKIeQAAACiMmAcAAIDCiHkAAAAojJgHAACAwoh5AAAAKIyYBwAAgMKIeQAAACiMmAcA\n",
              "AIDCiHkAAAAojJgHAACAwoh5AAAAKIyYBwAAgMKIeQAAACiMmAcAAIDCiHkAAAAojJgHAACAwoh5\n",
              "AAAAKIyYBwAAgMKIeQAAACiMmAcAAIDCiHkAAAAojJgHAACAwoh5AAAAKIyYBwAAgMKIeQAAACiM\n",
              "mAcAAIDCiHkAAAAojJgHAACAwoh5AAAAKIyYBwAAgMKIeQAAACiMmAcAAIDCiHkAAAAojJgHAACA\n",
              "wtRVVVV19SJq6eyzz05jY2NXL+NDtWPHjixZsiQTJkxIz549u3o5dAIz3fuY6d7HTPcu5rn3MdO9\n",
              "j5nufcz0/w0ZMiRXXnnlex6z18f8r6MtW7akX79+2bx5c/r27dvVy6ETmOnex0z3Pma6dzHPvY+Z\n",
              "7n3MdO9jph3jbfYAAABQGDEPAAAAhRHzAAAAUBgxvxeqr6/PF7/4xdTX13f1UugkZrr3MdO9j5nu\n",
              "Xcxz72Omex8z3fuYacf4ADwAAAAojFfmAQAAoDBiHgAAAAoj5gEAAKAwYr6b+O3f/u2MGTMmzc3N\n",
              "OfHEE7Ns2bIkSWNjY0aMGJHm5uY0Nzfn/vvvbzvnueeey/HHH5/hw4dn/PjxWbFiRU330TF7MtMP\n",
              "e950zK5munXr1lx++eUZNmxYRo8enfPPP7/tHNdp97YnM3Wddm87m+mrr77aNq/m5uYMHz48vXr1\n",
              "yv/8z/8kSV5++eVMmjQpw4YNy6hRo/KjH/2o7fFqsY+O2ZOZnnzyyTnssMPa9t96661tj2emXW9X\n",
              "33u/973v5dhjj01zc3NGjRqVb3zjG23nuE67tz2Zqeu0E1R0Cxs3bmz784IFC6oxY8ZUVVVVQ4YM\n",
              "qZYtW7bTcz75yU9Wd911V1VVVfXP//zP1bhx42q6j47Zk5l+2POmY3Y10z/5kz+pLr/88qq1tbWq\n",
              "qqp66aWX2o5znXZvezJT12n3tquZ/rJbbrmlOv3009tuf/7zn6+++MUvVlVVVUuWLKl+8zd/s3r7\n",
              "7bdrto+O2ZOZTpw4sfrOd76z08cz0663s5m2trZW/fv3r5588smqqqpq9erVVX19fbVly5aqqlyn\n",
              "3d2ezNR1+sGJ+W7orrvuqo4++uiqqnb9l8YNGzZUBxxwQLVt27aqqqqqtbW1GjhwYPXcc8/VZB8f\n",
              "zO7M9L32mWn384uZvv7669UBBxxQbd68+V3HuE7LsjszrSrXaUl++XvvLzviiCPa/QWyT58+7X5g\n",
              "M378+Or73/9+zfax53Z3pu8VCWbavfxipq2trdVBBx1UPfzww1VVVdWTTz5ZffSjH622bt1aVZXr\n",
              "tCS7O1PX6QfXq6vfGcD/u/DCC/PDH/4wyTtvSfnl+6uqyoQJE3LzzTdnwIABWbt2bQ499ND06vXO\n",
              "COvq6tLQ0JCWlpb069ev0/c1NTV9mP8r9hodmel77avFvM10z/zqTFetWpWDDjooN910U37wgx9k\n",
              "3333zfXXX59TTjnFdVqIjsz0l89xnXZfu/remySLFy/Oxo0bc/rppydJXn311Wzbti2DBg1qO6ax\n",
              "sTEtLS012cee6chMf+G6667LzJkzM3LkyMyaNStDhw41027kV2daV1eX+++/P2effXb69OmTjRs3\n",
              "ZsGCBdlnn31cp4XoyEx/wXX6wfid+W7k7rvvztq1a3PjjTfm2muvTZL86Ec/ylNPPZWlS5fm4IMP\n",
              "zh/+4R928SrpiI7O1Ly7v1+d6fbt2/P8889n5MiReeKJJ/K1r30tn/3sZ7Nhw4auXiq7qaMzdZ12\n",
              "fzv73vsLc+fOzYUXXtj2wxPK0NGZ3nPPPXn22Wfz1FNP5cQTT3xX6NP1dva998Ybb8yCBQvy/PPP\n",
              "58EHH8wFF1yQV155pauXym7q6Exdp52ga98YwK707t27euWVV9rd9+KLL1b7779/VVXevlui95vp\n",
              "r6r1vPngevfuXa1fv77q0aNHtX379rb7x40bV33/+993nRbo/Wb6q1yn3d8vf+997bXXqv333796\n",
              "5pln2h2z33777fJtmbXYxwezOzP9VfX19W3nmGn307t37+rHP/5xNWzYsHb3jxs3rvr3f//3qqpc\n",
              "p6XZnZn+Ktdpx3llvhvYtGlTXnzxxbbbDzzwQD7ykY+kd+/e2bRpU9v99913X4455pgkySGHHJJj\n",
              "jz029957b5Jk/vz5GTx4cJqammqyj47Zk5m+8cYbH+q86ZhdzfSQQw7JKaeckn/7t39LkqxevTqr\n",
              "V6/OkUce6Trt5vZkpq7T7m1XMz3ooIOSJPfff3+OPvroHHHEEe3O+8xnPpM5c+YkSR5//PG88MIL\n",
              "mThxYs32sfv2ZKbbt29v9+6o+fPnZ+DAgfnIRz6SxEy72q5m2tjYmJdeeinPPPNMkmTlypVZtWpV\n",
              "RowYkcR12p3tyUxdp52kq3+aQFWtWbOmGj9+fDVq1KhqzJgx1SmnnFItW7asWrVqVdXc3FyNHj26\n",
              "GjVqVDV58uRq9erVbec9++yz1cc//vFq2LBh1dixY6unnnqqpvvYfXsy066YN7tvVzOtqndmd/LJ\n",
              "J7ftmzdvXtt5rtPua09m6jrt3t5rplVVVccdd1z1D//wD+86b/369dVv/dZvVU1NTdXIkSOrhx56\n",
              "qKb72H17MtPXX3+9Gjt2bNs5n/rUp6rly5e37TfTrvVeM/3mN7/Zdv+oUaOqf/qnf2o7z3Xafe3J\n",
              "TF2nnaOuqqqqq3+gAAAAAOw+b7MHAACAwoh5AAAAKIyYBwAAgMKIeQD4Ndfc3JzXXnutw+edc845\n",
              "+cd//MfOXxAA8L56dfUCAICutXz58q5eAgDQQV6ZB4Bfc3V1ddm0aVOSpLGxMX/xF3+R4447Locd\n",
              "dlhuvPHGtuOeffbZHH/88TnqqKNy5plnZsuWLW37XnvttVxyySWZMGFCxowZk0svvTRvv/12fvKT\n",
              "n2Tw4MH52c9+liT5yle+kkmTJqW1tfVDfY4AsLcR8wBAO5s2bcpjjz2Wxx9/PLfcckteeOGFJMkF\n",
              "F1yQiy66KCtWrMiXvvSlPPzww23n/Omf/mlOPPHELFmyJE8++WRaW1tz2223ZcSIEbnlllty7rnn\n",
              "5j/+4z/y9a9/Pffcc0969PBXEAD4ILzNHgBo53Of+1yS5OCDD87QoUOzevXqHHDAAVm+fHmmTp2a\n",
              "JBk9enQ+8YlPtJ3zwAMP5LHHHsvs2bOTJG+++WZ69uyZJPn93//9/PCHP8ypp56aBx98MAMGDPhw\n",
              "nxAA7IXEPADQTu/evdv+3LNnz2zfvn2nx9XV1bX9uaqqzJ8/P8OHD3/Xcdu3b89///d/56CDDmp7\n",
              "lR8A+GC8xw0AeF99+/bNMccck7vvvjtJsmLFijzyyCNt+88888x8+ctfbgv/jRs3ZuXKlUmS6667\n",
              "LiNGjMiiRYty9dVXt90PAOw5MQ8A7Ja77747d955Z0aNGpUvfOELOemkk9r23Xrrrdl3333T3Nyc\n",
              "MWPG5JRTTsmaNWvy3e9+N//6r/+ar3/962lqasrs2bNz7rnn5q233urCZwIA5aurqqrq6kUAAAAA\n",
              "u88r8wAAAFAYMQ8AAACFEfMAAABQGDEPAAAAhRHzAAAAUBgxDwAAAIUR8wAAAFAYMQ8AAACFEfMA\n",
              "AABQGDEPAAAAhfk/9I33upqXjYEAAAAASUVORK5CYII=\n",
              "\">\n",
              "      </div>\n",
              "      <script type=\"text/javascript\">\n",
              "        (() => {\n",
              "          const chartElement = document.getElementById(\"chart-a6fa334e-9c9e-4c03-8e49-d9f11393b80e\");\n",
              "          async function getCodeForChartHandler(event) {\n",
              "            const chartCodeResponse =  await google.colab.kernel.invokeFunction(\n",
              "                'getCodeForChart', [\"chart-a6fa334e-9c9e-4c03-8e49-d9f11393b80e\"], {});\n",
              "            const responseJson = chartCodeResponse.data['application/json'];\n",
              "            await google.colab.notebook.addCell(responseJson.code, 'code');\n",
              "          }\n",
              "          chartElement.onclick = getCodeForChartHandler;\n",
              "        })();\n",
              "      </script>\n",
              "      <style>\n",
              "        .colab-quickchart-chart-with-code  {\n",
              "            display: block;\n",
              "            float: left;\n",
              "            border: 1px solid transparent;\n",
              "        }\n",
              "\n",
              "        .colab-quickchart-chart-with-code:hover {\n",
              "            cursor: pointer;\n",
              "            border: 1px solid #aaa;\n",
              "        }\n",
              "      </style>"
            ]
          },
          "metadata": {}
        },
        {
          "output_type": "display_data",
          "data": {
            "text/plain": [
              "from matplotlib import pyplot as plt\n",
              "import seaborn as sns\n",
              "def _plot_series(series, series_name, series_index=0):\n",
              "  from matplotlib import pyplot as plt\n",
              "  import seaborn as sns\n",
              "  palette = list(sns.palettes.mpl_palette('Dark2'))\n",
              "  counted = (series['strength']\n",
              "                .value_counts()\n",
              "              .reset_index(name='counts')\n",
              "              .rename({'index': 'strength'}, axis=1)\n",
              "              .sort_values('strength', ascending=True))\n",
              "  xs = counted['strength']\n",
              "  ys = counted['counts']\n",
              "  plt.plot(xs, ys, label=series_name, color=palette[series_index % len(palette)])\n",
              "\n",
              "fig, ax = plt.subplots(figsize=(10, 5.2), layout='constrained')\n",
              "df_sorted = _df_1.sort_values('strength', ascending=True)\n",
              "_plot_series(df_sorted, '')\n",
              "sns.despine(fig=fig, ax=ax)\n",
              "plt.xlabel('strength')\n",
              "_ = plt.ylabel('count()')"
            ],
            "text/html": [
              "      <div class=\"colab-quickchart-chart-with-code\" id=\"chart-9ae30c62-8fe8-4b02-a623-abdc964b591b\">\n",
              "        <img style=\"width: 180px;\" src=\"data:image/png;base64,iVBORw0KGgoAAAANSUhEUgAAA/MAAAITCAYAAABLz0yVAAAAOXRFWHRTb2Z0d2FyZQBNYXRwbG90\n",
              "bGliIHZlcnNpb24zLjcuMSwgaHR0cHM6Ly9tYXRwbG90bGliLm9yZy/bCgiHAAAACXBIWXMAAA9h\n",
              "AAAPYQGoP6dpAAAkZElEQVR4nO3dfZCV9X3//9cB4hKN3LSi2MF15U5FFJWbInQkMemIVvAGG22j\n",
              "GRJBbJpoZVIM05AGk2iaUdRiO2CHsSaZai0YwjSZzjSasSpp0SJqQBshrAuJeBdd8AYE9vr94WS/\n",
              "2R83srrL8oHHY+aacM712XPeJ/OZTZ6ccy5qVVVVAQAAAIrRrasHAAAAANpHzAMAAEBhxDwAAAAU\n",
              "RswDAABAYcQ8AAAAFEbMAwAAQGHEPAAAABRGzAMAAEBhDvqYv+OOO7p6BAAAAOhQB33Mv/DCC109\n",
              "AgAAAHSogz7mAQAA4GAj5gEAAKAwYh4AAAAKI+YBAACgMGIeAAAACiPmAQAAoDBiHgAAAAoj5gEA\n",
              "AKAwYh4AAAAKI+YBAACgMGIeAAAACiPmAQAAoDBiHgAAAAoj5gEAAKAwYh4AAAAKI+YBAACgMGIe\n",
              "AAAACiPmAQAAoDBiHgAAAAoj5gEAAKAwYh4AAAAKI+YBAACgMGIeAAAACiPmAQAAoDBiHgAAAAoj\n",
              "5gEAAKAwYh4AAAAKI+YBAACgMGIeAAAACiPmAQAAoDBiHgAAAAoj5gEAAKAwYh4AAAAKI+YBAACg\n",
              "MGIeAAAACiPmAQAAoDBiHgAAAAoj5gEAAKAwYh4AAAAKI+YBAACgMGIeAAAACiPmAQAAoDBiHgAA\n",
              "AAoj5gEAAKAwYh4AAAAKI+YBAACgMGIeAAAACiPmAQAAoDBiHgAAAAoj5gEAAKAwYh4AAAAKI+YB\n",
              "AACgMGIeAAAACiPmAQAAoDBiHgAAAAoj5gEAAKAwYh4AAAAKI+YBAACgMGIeAAAACiPmAQAAoDBi\n",
              "HgAAAArTqTF/7bXXpqGhIbVaLatWrdrjukWLFmXIkCEZNGhQpk+fnu3bt7c5X1VVzjnnnPTp06cz\n",
              "xwUAAIAidGrMX3rppXn00Udz/PHH73HN+vXrM2fOnDzyyCNZu3ZtXnrppdx1111t1tx2220ZNGhQ\n",
              "Z44KAAAAxejUmD/77LMzYMCAva5ZvHhxJk+enP79+6dWq+Waa67Jvffe23p+9erVWbp0ab7yla+8\n",
              "7/Nt27YtmzdvbnPs3LnzQ78OAAAAOJB0+Xfmm5qa2rxz39DQkKampiTJ9u3bM3369CxcuDDdu3d/\n",
              "38e6+eab07t37zbHihUrOm12AAAA6ApdHvN7M3fu3FxyySU5+eST92n97Nmz09zc3OYYM2ZMJ08J\n",
              "AAAA+1ePrh6gvr4+69ata73d2NiY+vr6JMnDDz+cpqam3HnnndmxY0c2b96choaGPP744+nXr98u\n",
              "j1VXV5e6uro29+3LO/oAAABQki5/Z37KlClZtmxZNm3alKqqsmDBglx++eVJkkceeSQvvPBCGhsb\n",
              "8+ijj6ZXr15pbGzcbcgDAADAoaJTY37GjBkZMGBANm7cmHPPPTeDBw9OkkybNi3Lli1LkgwcODBz\n",
              "587N+PHjM3jw4PTr1y8zZszozLEAAACgaLWqqqquHqIzzZw5M/PmzevqMQAAAKDDdPnH7AEAAID2\n",
              "EfMAAABQGDEPAAAAhRHzAAAAUBgxDwAAAIUR8wAAAFAYMQ8AAACFEfMAAABQGDEPAAAAhRHzAAAA\n",
              "UBgxDwAAAIUR8wAAAFAYMQ8AAACFEfMAAABQGDEPAAAAhRHzAAAAUBgxDwAAAIUR8wAAAFAYMQ8A\n",
              "AACFEfMAAABQGDEPAAAAhRHzAAAAUBgxDwAAAIUR8wAAAFAYMQ8AAACFEfMAAABQGDEPAAAAhRHz\n",
              "AAAAUBgxDwAAAIUR8wAAAFAYMQ8AAACFEfMAAABQGDEPAAAAhRHzAAAAUBgxDwAAAIUR8wAAAFAY\n",
              "MQ8AAACFEfMAAABQGDEPAAAAhRHzAAAAUBgxDwAAAIUR8wAAAFAYMQ8AAACFEfMAAABQGDEPAAAA\n",
              "hRHzAAAAUBgxDwAAAIUR8wAAAFAYMQ8AAACFEfMAAABQGDEPAAAAhRHzAAAAUBgxDwAAAIUR8wAA\n",
              "AFAYMQ8AAACFEfMAAABQGDEPAAAAhRHzAAAAUBgxDwAAAIUR8wAAAFAYMQ8AAACFEfMAAABQGDEP\n",
              "AAAAhRHzAAAAUBgxDwAAAIUR8wAAAFAYMQ8AAACFEfMAAABQGDEPAAAAhRHzAAAAUBgxDwAAAIUR\n",
              "8wAAAFAYMQ8AAACFEfMAAABQGDEPAAAAhRHzAAAAUBgxDwAAAIUR8wAAAFCYTo35a6+9Ng0NDanV\n",
              "alm1atUe1y1atChDhgzJoEGDMn369Gzfvj1J8tBDD2XMmDEZNmxYTjnllMyaNSstLS2dOTIAAAAc\n",
              "8Do15i+99NI8+uijOf744/e4Zv369ZkzZ04eeeSRrF27Ni+99FLuuuuuJEnfvn1z3333Zc2aNfnf\n",
              "//3fLF++PN/97nc7c2QAAAA44HVqzJ999tkZMGDAXtcsXrw4kydPTv/+/VOr1XLNNdfk3nvvTZKc\n",
              "ccYZGThwYJKkZ8+eOf3009PY2LjHx9q2bVs2b97c5ti5c2eHvR4AAAA4EHT5d+abmpravHPf0NCQ\n",
              "pqamXdZt2rQpixcvzgUXXLDHx7r55pvTu3fvNseKFSs6ZW4AAADoKl0e8/ti8+bNmTRpUmbNmpVR\n",
              "o0btcd3s2bPT3Nzc5hgzZsx+nBQAAAA6X4+uHqC+vj7r1q1rvd3Y2Jj6+vrW21u2bMnEiRNz4YUX\n",
              "ZubMmXt9rLq6utTV1bW5r3v37h07MAAAAHSxLn9nfsqUKVm2bFk2bdqUqqqyYMGCXH755UmSN998\n",
              "MxMnTszEiRPz1a9+tYsnBQAAgANDp8b8jBkzMmDAgGzcuDHnnntuBg8enCSZNm1ali1bliQZOHBg\n",
              "5s6dm/Hjx2fw4MHp169fZsyYkSS54447smLFijzwwAM5/fTTc/rpp+db3/pWZ44MAAAAB7xaVVVV\n",
              "Vw/RmWbOnJl58+Z19RgAAADQYbr8Y/YAAABA+4h5AAAAKIyYBwAAgMKIeQAAACiMmAcAAIDCiHkA\n",
              "AAAojJgHAACAwoh5AAAAKIyYBwAAgMKIeQAAACiMmAcAAIDCiHkAAAAojJgHAACAwoh5AAAAKIyY\n",
              "BwAAgMKIeQAAACiMmAcAAIDCiHkAAAAojJgHAACAwoh5AAAAKIyYBwAAgMKIeQAAACiMmAcAAIDC\n",
              "iHkAAAAojJgHAACAwoh5AAAAKIyYBwAAgMKIeQAAACiMmAcAAIDCiHkAAAAojJgHAACAwoh5AAAA\n",
              "KIyYBwAAgMKIeQAAACiMmAcAAIDCiHkAAAAojJgHAACAwoh5AAAAKIyYBwAAgMKIeQAAACiMmAcA\n",
              "AIDCiHkAAAAojJgHAACAwoh5AAAAKIyYBwAAgMKIeQAAACiMmAcAAIDCiHkAAAAojJgHAACAwoh5\n",
              "AAAAKIyYBwAAgMKIeQAAACiMmAcAAIDCiHkAAAAojJgHAACAwoh5AAAAKIyYBwAAgMKIeQAAACiM\n",
              "mAcAAIDCiHkAAAAojJgHAACAwoh5AAAAKIyYBwAAgMKIeQAAAChMjw/yQ2vWrMnGjRvz0Y9+NKee\n",
              "emr69OnTwWMBAAAAe7LPMb9ly5bccsst+ad/+qccfvjhOeaYY7J169asW7cuY8aMyQ033JBPfvKT\n",
              "nTkrAAAAkHbE/Cc+8Yl89rOfzZNPPpljjjmm9f6WlpY88sgjWbBgQdauXZsZM2Z0yqAAAADAe/Y5\n",
              "5h977LHU1dXtcn+3bt0yYcKETJgwIdu2bevQ4QAAAIBd7fMF8HYX8h9kDQAAAPDh7HPMX3DBBVm+\n",
              "fPluz73xxhu59dZbs3Dhwg4bDAAAANi9ff6Y/U033ZTZs2dnzZo1GT16dOsF8J577rn86le/yl/+\n",
              "5V/m85//fGfOCgAAAKQdMX/aaaflRz/6UTZs2JCHH344GzduzOGHH57PfOYz+aM/+qP06PGB/pU7\n",
              "AAAAoJ3aXeCvv/56rrjiijb3Pf300znttNM6bCgAAABgz/b5O/O/NXXq1H26DwAAAOgc+/zO/Msv\n",
              "v5xNmzblnXfeyTPPPJOqqpIkzc3NeeuttzptQAAAAKCtfY75e++9N7fffnt+/etfZ/Lkya339+7d\n",
              "O7NmzeqU4QAAAIBd7XPMX3fddbnuuuvyjW98I3PmzOnMmQAAAIC9aPcF8ObMmZOWlpZs2rQpO3bs\n",
              "aL2/vr6+QwcDAAAAdq/dF8C755570qdPn5x66qkZOXJkRo4cmVGjRu127bXXXpuGhobUarWsWrVq\n",
              "j4+5aNGiDBkyJIMGDcr06dOzffv2fToHAAAAh6J2x/yNN96Yxx9/PK+99lpeeeWVvPLKK3n55Zd3\n",
              "u/bSSy/No48+muOPP36Pj7d+/frMmTMnjzzySNauXZuXXnopd9111/ueAwAAgENVu2P+qKOOyokn\n",
              "nrhPa88+++wMGDBgr2sWL16cyZMnp3///qnVarnmmmty7733vu85AAAAOFS1+zvzF110UW6//fb8\n",
              "+Z//eXr27Nl6f69evT7QAE1NTW3euW9oaEhTU9P7ntudbdu2Zdu2bW3u27lz5weaCwAAAA5U7X5n\n",
              "/m/+5m8yc+bM9O/fP3379k2fPn3St2/fzpit3W6++eb07t27zbFixYquHgsAAAA6VLtjvqWlpfXY\n",
              "uXNn639+UPX19XnhhRdabzc2NrZeGX9v53Zn9uzZaW5ubnOMGTPmA88GAAAAB6J2x3xHmzJlSpYt\n",
              "W5ZNmzalqqosWLAgl19++fue2526urr06tWrzdG9e/f99VIAAABgv2h3zHfr1i3du3ff5didGTNm\n",
              "ZMCAAdm4cWPOPffcDB48OEkybdq0LFu2LEkycODAzJ07N+PHj8/gwYPTr1+/zJgx433PAQAAwKGq\n",
              "VlVV1Z4feOutt1r//M477+S73/1udu7cmb/+67/u8OE6wsyZMzNv3ryuHgMAAAA6TLvfmT/iiCNa\n",
              "j6OOOiozZ87M4sWLO2M2AAAAYDc+9Hfmn3vuubz66qsdMQsAAACwD9r978z37ds3tVotSbJjx44k\n",
              "yfz58zt2KgAAAGCP2h3zq1at+n8/3KNH+vfv74rxAAAAsB+1O+aPP/74vP32261R37dv3xx++OEd\n",
              "PRcAAACwB+2O+eXLl2fKlCnp379/kuSll17KkiVLctZZZ3X4cAAAAMCu2h3zv716/fjx45O8F/fX\n",
              "X399/vu//7vDhwMAAAB21e6r2b/zzjutIZ8k48aNy9atWzt0KAAAAGDP2h3zH/vYx/KTn/yk9faD\n",
              "Dz6YI444okOHAgAAAPas3R+z//u///tccsklrVewb2lpyQMPPNDhgwEAAAC71+6Y//Wvf50nnngi\n",
              "L730UpLkmGOOyYoVKzp8MAAAAGD32v0x+zlz5qRfv34ZPnx4hg8fnqOOOipz5szpjNkAAACA3Wh3\n",
              "zP//1Wq17Ny5syNmAQAAAPZBu2P+yCOPzPLly1tvP/bYYznyyCM7dCgAAABgz9r9nfnvfOc7ufji\n",
              "i3PSSSclSZ5//vn84Ac/6PDBAAAAgN1rd8yfddZZefbZZ/Ozn/0syXv/znyfPn06ei4AAABgD9od\n",
              "80nSt2/fnH/++R09CwAAALAPPvQF8AAAAID9S8wDAABAYcQ8AAAAFEbMAwAAQGHEPAAAABRGzAMA\n",
              "AEBhxDwAAAAURswDAABAYcQ8AAAAFEbMAwAAQGHEPAAAABRGzAMAAEBhxDwAAAAURswDAABAYcQ8\n",
              "AAAAFEbMAwAAQGHEPAAAABRGzAMAAEBhxDwAAAAURswDAABAYcQ8AAAAFEbMAwAAQGHEPAAAABRG\n",
              "zAMAAEBhxDwAAAAURswDAABAYcQ8AAAAFEbMAwAAQGHEPAAAABRGzAMAAEBhxDwAAAAURswDAABA\n",
              "YcQ8AAAAFEbMAwAAQGHEPAAAABRGzAMAAEBhxDwAAAAURswDAABAYcQ8AAAAFEbMAwAAQGHEPAAA\n",
              "ABRGzAMAAEBhxDwAAAAURswDAABAYcQ8AAAAFEbMAwAAQGHEPAAAABRGzAMAAEBhxDwAAAAURswD\n",
              "AABAYcQ8AAAAFEbMAwAAQGHEPAAAABRGzAMAAEBhxDwAAAAURswDAABAYcQ8AAAAFEbMAwAAQGHE\n",
              "PAAAABRGzAMAAEBhxDwAAAAURswDAABAYTo15p9//vmMGzcuQ4cOzejRo7N69epd1rS0tOTLX/5y\n",
              "hg8fnpNOOilXXXVV3n333dbzf/d3f5dhw4bl9NNPz9ixY7NixYrOHBkAAAAOeJ0a8zNmzMjVV1+d\n",
              "X/ziF7nhhhsyderUXdYsWrQoK1euzMqVK/Pss8+mW7duueOOO5Ikq1atyj/+4z9mxYoVWbVqVb74\n",
              "xS/mi1/8YmeODAAAAAe8Tov5l19+OU888USuuOKKJMmUKVOyYcOGrF27ts26p556Kp/61Kdy2GGH\n",
              "pVar5bzzzsv3vve9JEmtVsv27dvz1ltvJUneeOONDBgwYI/PuW3btmzevLnNsXPnzk56hQAAANA1\n",
              "Oi3mN2zYkGOPPTY9evRI8l6Y19fXp6mpqc26kSNHZtmyZdm8eXO2b9+e+++/P42NjUmSESNG5Prr\n",
              "r88JJ5yQAQMG5Lbbbsv8+fP3+Jw333xzevfu3ebwsXwAAAAONl1+AbypU6dm4sSJmTBhQiZMmJCh\n",
              "Q4e2/gXA+vXr88ADD2Tt2rXZuHFjrr/++lx22WV7fKzZs2enubm5zTFmzJj99VIAAABgv+i0mD/u\n",
              "uOPy4osvZseOHUmSqqrS1NSU+vr6NutqtVq+/vWv58knn8zy5cszbNiwnHLKKUmSJUuW5NRTT80f\n",
              "/MEfJEk+97nP5bHHHmtzgbzfVVdXl169erU5unfv3lkvEQAAALpEp8X80UcfnTPPPDPf//73k7wX\n",
              "5gMGDMjgwYPbrNu6dWtef/31JMmrr76ab3/725k1a1aSZODAgXnsscfy5ptvJkn+/d//PUOHDs1h\n",
              "hx3WWWMDAADAAa9HZz74woULM3Xq1Nx0003p1atX7r777iTJtGnTMnny5EyePDnNzc35+Mc/nm7d\n",
              "uqWlpSXXXXddJk2alCS5+OKL8/jjj2fUqFGpq6vLEUcckX/5l3/pzJEBAADggFerqqrq6iE608yZ\n",
              "MzNv3ryuHgMAAAA6TJdfAA8AAABoHzEPAAAAhRHzAAAAUBgxDwAAAIUR8wAAAFAYMQ8AAACFEfMA\n",
              "AABQGDEPAAAAhRHzAAAAUBgxDwAAAIUR8wAAAFAYMQ8AAACFEfMAAABQGDEPAAAAhRHzAAAAUBgx\n",
              "DwAAAIUR8wAAAFAYMQ8AAACFEfMAAABQGDEPAAAAhRHzAAAAUBgxDwAAAIUR8wAAAFAYMQ8AAACF\n",
              "EfMAAABQGDEPAAAAhRHzAAAAUBgxDwAAAIUR8wAAAFAYMQ8AAACFEfMAAABQGDEPAAAAhRHzAAAA\n",
              "UBgxDwAAAIUR8wAAAFAYMQ8AAACFEfMAAABQGDEPAAAAhRHzAAAAUBgxDwAAAIUR8wAAAFAYMQ8A\n",
              "AACFEfMAAABQGDEPAAAAhRHzAAAAUBgxDwAAAIUR8wAAAFAYMQ8AAACFEfMAAABQGDEPAAAAhRHz\n",
              "AAAAUBgxDwAAAIUR8wAAAFAYMQ8AAACFEfMAAABQGDEPAAAAhRHzAAAAUBgxDwAAAIUR8wAAAFAY\n",
              "MQ8AAACFEfMAAABQGDEPAAAAhRHzAAAAUBgxDwAAAIUR8wAAAFAYMQ8AAACFEfMAAABQGDEPAAAA\n",
              "hRHzAAAAUBgxDwAAAIUR8wAAAFAYMQ8AAACFEfMAAABQGDEPAAAAhRHzAAAAUBgxDwAAAIUR8wAA\n",
              "AFAYMQ8AAACF6dSYf/755zNu3LgMHTo0o0ePzurVq3dZ09LSki9/+csZPnx4TjrppFx11VV59913\n",
              "W883NTVl0qRJOfHEEzNs2LDMnz+/M0cGAACAA16nxvyMGTNy9dVX5xe/+EVuuOGGTJ06dZc1ixYt\n",
              "ysqVK7Ny5co8++yz6datW+64444kSVVVufjii/PZz342//d//5c1a9bk05/+dGeODAAAAAe8Tov5\n",
              "l19+OU888USuuOKKJMmUKVOyYcOGrF27ts26p556Kp/61Kdy2GGHpVar5bzzzsv3vve9JMmDDz6Y\n",
              "urq6/Omf/mnr+mOOOWaPz7lt27Zs3ry5zbFz585OeHUAAADQdTot5jds2JBjjz02PXr0SJLUarXU\n",
              "19enqampzbqRI0dm2bJl2bx5c7Zv3577778/jY2NSZI1a9akX79+ufzyy3PGGWfk4osvzi9/+cs9\n",
              "PufNN9+c3r17tzlWrFjRWS8RAAAAukSXXwBv6tSpmThxYiZMmJAJEyZk6NChrX8BsGPHjjz00EOZ\n",
              "M2dOnnzyyZx77rl7/Zj97Nmz09zc3OYYM2bM/nopAAAAsF90Wswfd9xxefHFF7Njx44k733/vamp\n",
              "KfX19W3W1Wq1fP3rX8+TTz6Z5cuXZ9iwYTnllFOSJPX19TnjjDNab1955ZVZuXJltm/fvtvnrKur\n",
              "S69evdoc3bt376yXCAAAAF2i02L+6KOPzplnnpnvf//7SZIlS5ZkwIABGTx4cJt1W7duzeuvv54k\n",
              "efXVV/Ptb387s2bNSpKcd9552bhxY371q18lSX784x/n5JNPzkc+8pHOGhsAAAAOeD0688EXLlyY\n",
              "qVOn5qabbkqvXr1y9913J0mmTZuWyZMnZ/LkyWlubs7HP/7xdOvWLS0tLbnuuusyadKkJMkRRxyR\n",
              "BQsW5E/+5E9SVVV69+6d++67rzNHBgAAgANeraqqqquH6EwzZ87MvHnzunoMAAAA6DBdfgE8AAAA\n",
              "oH3EPAAAABRGzAMAAEBhxDwAAAAURswDAABAYcQ8AAAAFEbMAwAAQGHEPAAAABRGzAMAAEBhxDwA\n",
              "AAAURswDAABAYcQ8AAAAFEbMAwAAQGHEPAAAABRGzAMAAEBhxDwAAAAURswDAABAYcQ8AAAAFEbM\n",
              "AwAAQGHEPAAAABRGzAMAAEBhxDwAAAAURswDAABAYcQ8AAAAFEbMAwAAQGHEPAAAABRGzAMAAEBh\n",
              "xDwAAAAURswDAABAYcQ8AAAAFEbMAwAAQGHEPAAAABRGzAMAAEBhxDwAAAAURswDAABAYcQ8AAAA\n",
              "FEbMAwAAQGHEPAAAABRGzAMAAEBhxDwAAAAURswDAABAYcQ8AAAAFEbMAwAAQGHEPAAAABRGzAMA\n",
              "AEBhxDwAAAAURswDAABAYcQ8AAAAFEbMAwAAQGHEPAAAABRGzAMAAEBhxDwAAAAURswDAABAYcQ8\n",
              "AAAAFEbMAwAAQGHEPAAAABRGzAMAAEBhxDwAAAAURswDAABAYcQ8AAAAFKZWVVXV1UN0pksuuSQN\n",
              "DQ1dPQZdZOfOnVmxYkXGjBmT7t27d/U4sFf2KyWxXymJ/UpJ7FeS5Pjjj89111231zUHfcxzaNu8\n",
              "eXN69+6d5ubm9OrVq6vHgb2yXymJ/UpJ7FdKYr+yr3zMHgAAAAoj5gEAAKAwYh4AAAAKI+Y5qNXV\n",
              "1eVv//ZvU1dX19WjwPuyXymJ/UpJ7FdKYr+yr1wADwAAAArjnXkAAAAojJgHAACAwoh5AAAAKIyY\n",
              "p3gtLS350pe+lEGDBmXw4MG5884797j2+eefz7hx4zJ06NCMHj06q1ev3mXN3XffnVqtlqVLl3bi\n",
              "1ByqOmK/bt26NRdddFGGDh2aESNG5I//+I+zdu3a/fUSOMjty+/JJFm0aFGGDBmSQYMGZfr06dm+\n",
              "ffs+nYOO9GH360MPPZQxY8Zk2LBhOeWUUzJr1qy0tLTsz5fAIaQjfr8mSVVVOeecc9KnT5/9MDUH\n",
              "tAoKd88991TnnHNOtWPHjuq1116r6uvrq5///Oe7XfuJT3yiuvvuu6uqqqp/+7d/q0aNGtXm/Pr1\n",
              "66uzzjqrGjt2bPWDH/ygkyfnUNQR+/Wdd96pfvSjH1UtLS1VVVXV/PnzqwkTJuyP8TkEvN/vyaqq\n",
              "ql/+8pfVscceW7344otVS0tLNWnSpOrOO+9833PQ0T7sfl25cmW1bt26qqre+906fvz41seDjvZh\n",
              "9+tv3XrrrdW0adOq3r1774epOZB5Z57i/eu//mumT5+e7t275/d+7/dy2WWX5d57791l3csvv5wn\n",
              "nngiV1xxRZJkypQp2bBhQ+s7mi0tLZk2bVrmz5/vnwKh03TEfu3Zs2fOP//81Gq1JMnYsWPT2Ni4\n",
              "P18GB6n3+z35W4sXL87kyZPTv3//1Gq1XHPNNa37eG/noCN1xH4944wzMnDgwCRJz549c/rpp/t9\n",
              "SqfoiP2aJKtXr87SpUvzla98Zb/Oz4FJzFO8pqamHH/88a23Gxoa0tTUtMu6DRs25Nhjj02PHj2S\n",
              "JLVaLfX19a1r582bl/Hjx2fkyJH7Z3AOSR21X3/XHXfckQsvvLDzhuaQsa/7bm/7eF/3OHxYHbFf\n",
              "f9emTZuyePHiXHDBBZ07OIekjtiv27dvz/Tp07Nw4cJ07959/w3PAatHVw8A7+ess87K888/v9tz\n",
              "Tz75ZIc8x89//vMsWbIk//Vf/9Uhj8eha3/s19910003Ze3atXnwwQc7/LEBDhWbN2/OpEmTMmvW\n",
              "rIwaNaqrx4Hdmjt3bi655JKcfPLJPkFCEjFPAX72s5/t9Xx9fX1eeOGFnHXWWUmSxsbG1NfX77Lu\n",
              "uOOOy4svvpgdO3akR48eqaoqTU1Nqa+vz3/+53+msbExQ4YMSfLe385fffXVefHFF/MXf/EXHf+i\n",
              "OGjtj/36W7fcckseeOCB/OQnP8nhhx/esS+EQ9K+7LvkvX28bt261tu/u4/3dg46Ukfs1yTZsmVL\n",
              "Jk6cmAsvvDAzZ87cb/NzaOmI/frwww+nqakpd955Z3bs2JHNmzenoaEhjz/+ePr167dfXw8HiC79\n",
              "xj50gLvvvnuXC4o9/fTTu107YcKENhceGTly5B7XuQAenaGj9uutt95anXnmmdVvfvOb/TE2h5B9\n",
              "+T25bt26XS7QNH/+/Pc9Bx3tw+7XLVu2VOPGjavmzp27P8fmEPVh9+vvWr9+vQvgUYl5irdjx47q\n",
              "C1/4QnXCCSdUAwcOrG6//fbWcz/84Q+rq666qvX2c889V40dO7YaMmRINXLkyL1GlJinM3TEft2w\n",
              "YUOVpBo4cGA1YsSIasSIEdWYMWP2+2vh4LSnfXfVVVdVP/zhD1vX3XXXXdXAgQOrgQMHVp///Oer\n",
              "d999d5/OQUf6sPv1m9/8ZtWjR4/W36UjRoyovvnNb3bJa+Hg1xG/X39LzFNVVVWrqqrq6k8HAAAA\n",
              "APvO1ewBAACgMGIeAAAACiPmAQAAoDBiHgAOMY2NjVmwYMF+f95Vq1blvvvua3NfrVbLG2+8sd9n\n",
              "AYDSiXkAOMS8X8zv2LGjU553dzEPAHwwrmYPAAexd955J1OnTs0zzzyTj3zkIznmmGPS1NSUF154\n",
              "ISeeeGLq6+uzbNmyNDQ05LLLLstPf/rTDBkyJP/8z/+cOXPm5KGHHsq7776boUOHZuHChenbt2+m\n",
              "Tp2aurq6rF27Nhs2bMjw4cNz33335bDDDsuWLVsybdq0PPXUU+nXr1+GDRuWbdu25Tvf+U5GjRqV\n",
              "5ubmnHDCCRk7dmwWLFiQWq2Wb33rW1m6dGleeeWVfO1rX8vnPve5rv6vDQAOeD26egAAoPP8x3/8\n",
              "R954442sWbMmSfKb3/wmTz/9dP7qr/4qq1atarP2tddey//8z/+kVqvlpptuyhFHHJEVK1YkSb7x\n",
              "jW/kq1/9av7hH/4hyXvvsv/0pz9NXV1dzj777CxZsiR/9md/lhtvvDEf/ehH8+yzz+bNN9/MuHHj\n",
              "MnLkyBx99NG58cYbs3Tp0ixdurTN89bV1WXFihV57rnnMnr06Fx55ZXp0cP/RQGAvfG/lABwEBsx\n",
              "YkSeffbZfOELX8iECRNy/vnn73Ht1KlTU6vVkiRLly5Nc3NzlixZkiR5991309DQ0Lr24osvzuGH\n",
              "H54kGTNmTNatW5ckefDBB3PbbbelVqvlyCOPzGWXXZa1a9fudcbPfOYzSZKTTjopPXr0yKZNmzJg\n",
              "wIAP/JoB4FDgO/MAcBAbOHBg1qxZk4kTJ+axxx7L8OHD8/rrr+927cc+9rHWP1dVlfnz52fVqlVZ\n",
              "tWpV1qxZkx//+Met53v27Nn65+7du+/xe/a//cuBvdnXxwIA/h8xDwAHsY0bN6ZWq2Xy5Mm55ZZb\n",
              "UlVVfv/3fz/Nzc17/bmLLroot912W95+++0kydtvv53Vq1e/7/Odc845ueeee1JVVd58883cf//9\n",
              "red69er1vs8LAOwbMQ8AB7Fnnnkm48ePz4gRI3LGGWfkyiuvzLhx43LKKadk+PDhmTx58m5/7oYb\n",
              "bsjo0aPzh3/4hznttNMyduzYXb5jvztf+9rXsmXLlpx88smZOHFiRowYkT59+iRJPvnJT2bbtm05\n",
              "7bTTcs0113TgqwSAQ4+r2QMAHWb79u3ZuXNnevbsmbfeeivnnntuvvSlL+Wyyy7r6tEA4KDiAngA\n",
              "QId5/fXXc95552Xnzp3ZunVrLrzwwnz605/u6rEA4KDjnXkAAAAojO/MAwAAQGHEPAAAABRGzAMA\n",
              "AEBhxDwAAAAURswDAABAYcQ8AAAAFEbMAwAAQGHEPAAAABTm/wPCOmcoNrw5igAAAABJRU5ErkJg\n",
              "gg==\n",
              "\">\n",
              "      </div>\n",
              "      <script type=\"text/javascript\">\n",
              "        (() => {\n",
              "          const chartElement = document.getElementById(\"chart-9ae30c62-8fe8-4b02-a623-abdc964b591b\");\n",
              "          async function getCodeForChartHandler(event) {\n",
              "            const chartCodeResponse =  await google.colab.kernel.invokeFunction(\n",
              "                'getCodeForChart', [\"chart-9ae30c62-8fe8-4b02-a623-abdc964b591b\"], {});\n",
              "            const responseJson = chartCodeResponse.data['application/json'];\n",
              "            await google.colab.notebook.addCell(responseJson.code, 'code');\n",
              "          }\n",
              "          chartElement.onclick = getCodeForChartHandler;\n",
              "        })();\n",
              "      </script>\n",
              "      <style>\n",
              "        .colab-quickchart-chart-with-code  {\n",
              "            display: block;\n",
              "            float: left;\n",
              "            border: 1px solid transparent;\n",
              "        }\n",
              "\n",
              "        .colab-quickchart-chart-with-code:hover {\n",
              "            cursor: pointer;\n",
              "            border: 1px solid #aaa;\n",
              "        }\n",
              "      </style>"
            ]
          },
          "metadata": {}
        }
      ]
    },
    {
      "cell_type": "code",
      "source": [
        "data.dropna(inplace=True)"
      ],
      "metadata": {
        "id": "O3Hpje5_GAOY"
      },
      "execution_count": null,
      "outputs": []
    },
    {
      "cell_type": "code",
      "source": [
        "data.isnull().sum()"
      ],
      "metadata": {
        "colab": {
          "base_uri": "https://localhost:8080/"
        },
        "id": "_MfjK70-GMlC",
        "outputId": "0c4a9217-5178-410c-d31a-f023fd177ed0"
      },
      "execution_count": null,
      "outputs": [
        {
          "output_type": "execute_result",
          "data": {
            "text/plain": [
              "password    0\n",
              "strength    0\n",
              "dtype: int64"
            ]
          },
          "metadata": {},
          "execution_count": 13
        }
      ]
    },
    {
      "cell_type": "code",
      "source": [
        "sns.countplot(data['strength'])"
      ],
      "metadata": {
        "colab": {
          "base_uri": "https://localhost:8080/",
          "height": 452
        },
        "id": "DdqGLdC4GbF_",
        "outputId": "4f4957bf-a938-479e-8418-5169cf6c129b"
      },
      "execution_count": null,
      "outputs": [
        {
          "output_type": "execute_result",
          "data": {
            "text/plain": [
              "<Axes: ylabel='count'>"
            ]
          },
          "metadata": {},
          "execution_count": 16
        },
        {
          "output_type": "display_data",
          "data": {
            "text/plain": [
              "<Figure size 640x480 with 1 Axes>"
            ],
            "image/png": "[encoded data removed]"
          },
          "metadata": {}
        }
      ]
    },
    {
      "cell_type": "code",
      "source": [
        "password_tuple=np.array(data)"
      ],
      "metadata": {
        "id": "tWQA5SixGzrA"
      },
      "execution_count": null,
      "outputs": []
    },
    {
      "cell_type": "code",
      "source": [
        "password_tuple"
      ],
      "metadata": {
        "colab": {
          "base_uri": "https://localhost:8080/"
        },
        "id": "xxtB4bIPHOTF",
        "outputId": "19f2c05d-2535-44e6-aed0-b3caf46a066c"
      },
      "execution_count": null,
      "outputs": [
        {
          "output_type": "execute_result",
          "data": {
            "text/plain": [
              "array([['kzde5577', 1],\n",
              "       ['kino3434', 1],\n",
              "       ['visi7k1yr', 1],\n",
              "       ...,\n",
              "       ['184520socram', 1],\n",
              "       ['marken22a', 1],\n",
              "       ['fxx4pw4g', 1]], dtype=object)"
            ]
          },
          "metadata": {},
          "execution_count": 19
        }
      ]
    },
    {
      "cell_type": "code",
      "source": [
        "import random\n",
        "random.shuffle(password_tuple)"
      ],
      "metadata": {
        "id": "IhM4HHJJHZNg"
      },
      "execution_count": null,
      "outputs": []
    },
    {
      "cell_type": "code",
      "source": [
        "x = [labels[0] for labels in password_tuple]\n",
        "y = [labels[1] for labels in password_tuple]"
      ],
      "metadata": {
        "id": "jl9nbRMNIG87"
      },
      "execution_count": null,
      "outputs": []
    },
    {
      "cell_type": "code",
      "source": [
        "x"
      ],
      "metadata": {
        "id": "iIJBFuc-Id0K"
      },
      "execution_count": null,
      "outputs": []
    },
    {
      "cell_type": "code",
      "source": [
        "y"
      ],
      "metadata": {
        "id": "_wIbFV5kIixO"
      },
      "execution_count": null,
      "outputs": []
    },
    {
      "cell_type": "code",
      "source": [
        "def word_divide_char(input):\n",
        "  character = []\n",
        "  for i in input:\n",
        "    character.append(i)\n",
        "  return character\n"
      ],
      "metadata": {
        "id": "Ys1q-yVtIk6T"
      },
      "execution_count": null,
      "outputs": []
    },
    {
      "cell_type": "code",
      "source": [
        "word_divide_char('10Erjrlmebup0n')"
      ],
      "metadata": {
        "colab": {
          "base_uri": "https://localhost:8080/"
        },
        "id": "5EMzp5SnJgyr",
        "outputId": "3284c009-31fd-4c05-e503-02139256c577"
      },
      "execution_count": null,
      "outputs": [
        {
          "output_type": "execute_result",
          "data": {
            "text/plain": [
              "['1', '0', 'E', 'r', 'j', 'r', 'l', 'm', 'e', 'b', 'u', 'p', '0', 'n']"
            ]
          },
          "metadata": {},
          "execution_count": 30
        }
      ]
    },
    {
      "cell_type": "code",
      "source": [
        "from sklearn.feature_extraction.text import TfidfVectorizer"
      ],
      "metadata": {
        "id": "TWmp2VhxKXW3"
      },
      "execution_count": null,
      "outputs": []
    },
    {
      "cell_type": "code",
      "source": [
        "vectorizer = TfidfVectorizer(tokenizer = word_divide_char)"
      ],
      "metadata": {
        "id": "kUf4NHjSKn9U"
      },
      "execution_count": null,
      "outputs": []
    },
    {
      "cell_type": "code",
      "source": [
        "X = vectorizer.fit_transform(x)"
      ],
      "metadata": {
        "id": "Feqk7fawK4NU"
      },
      "execution_count": null,
      "outputs": []
    },
    {
      "cell_type": "code",
      "source": [
        "X.shape"
      ],
      "metadata": {
        "colab": {
          "base_uri": "https://localhost:8080/"
        },
        "id": "d7H-2yTELLHt",
        "outputId": "de1dcac5-be81-4a3e-d823-598c241a48a6"
      },
      "execution_count": null,
      "outputs": [
        {
          "output_type": "execute_result",
          "data": {
            "text/plain": [
              "(669639, 128)"
            ]
          },
          "metadata": {},
          "execution_count": 35
        }
      ]
    },
    {
      "cell_type": "code",
      "source": [
        "vectorizer.get_feature_names_out()"
      ],
      "metadata": {
        "colab": {
          "base_uri": "https://localhost:8080/"
        },
        "id": "jtXI9dBKLTkO",
        "outputId": "41126640-29a0-46e6-a904-01c10fecf4c4"
      },
      "execution_count": null,
      "outputs": [
        {
          "output_type": "execute_result",
          "data": {
            "text/plain": [
              "array(['\\x04', '\\x05', '\\x08', '\\x0e', '\\x10', '\\x12', '\\x16', '\\x17',\n",
              "       '\\x19', '\\x1b', '\\x1c', '\\x1e', ' ', '!', '\"', '#', '$', '%', '&',\n",
              "       '(', ')', '*', '+', '-', '.', '/', '0', '1', '2', '3', '4', '5',\n",
              "       '6', '7', '8', '9', ';', '<', '=', '>', '?', '@', '[', '\\\\', ']',\n",
              "       '^', '_', '`', 'a', 'b', 'c', 'd', 'e', 'f', 'g', 'h', 'i', 'j',\n",
              "       'k', 'l', 'm', 'n', 'o', 'p', 'q', 'r', 's', 't', 'u', 'v', 'w',\n",
              "       'x', 'y', 'z', '{', '|', '}', '~', '\\x7f', '\\x81', '\\x8d', '\\xa0',\n",
              "       '¡', '¨', '«', '°', '±', '²', '³', '´', 'µ', '¶', '·', '¹', 'º',\n",
              "       '¾', '¿', 'ß', 'à', 'á', 'â', 'ä', 'å', 'æ', 'ç', 'è', 'ê', 'í',\n",
              "       'ð', 'ñ', 'ò', 'ó', 'ô', 'õ', 'ö', '÷', 'ù', 'ú', 'ü', 'ý', 'þ',\n",
              "       'ÿ', 'œ', '—', '‚', '‡', '‹', '›'], dtype=object)"
            ]
          },
          "metadata": {},
          "execution_count": 37
        }
      ]
    },
    {
      "cell_type": "code",
      "source": [
        "first_document_vector = X[0]\n",
        "first_document_vector\n"
      ],
      "metadata": {
        "colab": {
          "base_uri": "https://localhost:8080/"
        },
        "id": "IC6TFTUGLitY",
        "outputId": "2cff91a7-2f6c-47ed-e8c4-1bd9d2493a42"
      },
      "execution_count": null,
      "outputs": [
        {
          "output_type": "execute_result",
          "data": {
            "text/plain": [
              "<1x128 sparse matrix of type '<class 'numpy.float64'>'\n",
              "\twith 6 stored elements in Compressed Sparse Row format>"
            ]
          },
          "metadata": {},
          "execution_count": 38
        }
      ]
    },
    {
      "cell_type": "code",
      "source": [
        "first_document_vector.T.todense()\n"
      ],
      "metadata": {
        "colab": {
          "base_uri": "https://localhost:8080/"
        },
        "id": "IN__LZxyMEcj",
        "outputId": "c2bea43a-26ac-4043-ce02-37258f91d888"
      },
      "execution_count": null,
      "outputs": [
        {
          "output_type": "execute_result",
          "data": {
            "text/plain": [
              "matrix([[0.        ],\n",
              "        [0.        ],\n",
              "        [0.        ],\n",
              "        [0.        ],\n",
              "        [0.        ],\n",
              "        [0.        ],\n",
              "        [0.        ],\n",
              "        [0.        ],\n",
              "        [0.        ],\n",
              "        [0.        ],\n",
              "        [0.        ],\n",
              "        [0.        ],\n",
              "        [0.        ],\n",
              "        [0.        ],\n",
              "        [0.        ],\n",
              "        [0.        ],\n",
              "        [0.        ],\n",
              "        [0.        ],\n",
              "        [0.        ],\n",
              "        [0.        ],\n",
              "        [0.        ],\n",
              "        [0.        ],\n",
              "        [0.        ],\n",
              "        [0.        ],\n",
              "        [0.        ],\n",
              "        [0.        ],\n",
              "        [0.        ],\n",
              "        [0.        ],\n",
              "        [0.        ],\n",
              "        [0.        ],\n",
              "        [0.        ],\n",
              "        [0.56706207],\n",
              "        [0.        ],\n",
              "        [0.59130867],\n",
              "        [0.        ],\n",
              "        [0.        ],\n",
              "        [0.        ],\n",
              "        [0.        ],\n",
              "        [0.        ],\n",
              "        [0.        ],\n",
              "        [0.        ],\n",
              "        [0.        ],\n",
              "        [0.        ],\n",
              "        [0.        ],\n",
              "        [0.        ],\n",
              "        [0.        ],\n",
              "        [0.        ],\n",
              "        [0.        ],\n",
              "        [0.        ],\n",
              "        [0.        ],\n",
              "        [0.        ],\n",
              "        [0.28570828],\n",
              "        [0.22102439],\n",
              "        [0.        ],\n",
              "        [0.        ],\n",
              "        [0.        ],\n",
              "        [0.        ],\n",
              "        [0.        ],\n",
              "        [0.29182467],\n",
              "        [0.        ],\n",
              "        [0.        ],\n",
              "        [0.        ],\n",
              "        [0.        ],\n",
              "        [0.        ],\n",
              "        [0.        ],\n",
              "        [0.        ],\n",
              "        [0.        ],\n",
              "        [0.        ],\n",
              "        [0.        ],\n",
              "        [0.        ],\n",
              "        [0.        ],\n",
              "        [0.        ],\n",
              "        [0.        ],\n",
              "        [0.33638078],\n",
              "        [0.        ],\n",
              "        [0.        ],\n",
              "        [0.        ],\n",
              "        [0.        ],\n",
              "        [0.        ],\n",
              "        [0.        ],\n",
              "        [0.        ],\n",
              "        [0.        ],\n",
              "        [0.        ],\n",
              "        [0.        ],\n",
              "        [0.        ],\n",
              "        [0.        ],\n",
              "        [0.        ],\n",
              "        [0.        ],\n",
              "        [0.        ],\n",
              "        [0.        ],\n",
              "        [0.        ],\n",
              "        [0.        ],\n",
              "        [0.        ],\n",
              "        [0.        ],\n",
              "        [0.        ],\n",
              "        [0.        ],\n",
              "        [0.        ],\n",
              "        [0.        ],\n",
              "        [0.        ],\n",
              "        [0.        ],\n",
              "        [0.        ],\n",
              "        [0.        ],\n",
              "        [0.        ],\n",
              "        [0.        ],\n",
              "        [0.        ],\n",
              "        [0.        ],\n",
              "        [0.        ],\n",
              "        [0.        ],\n",
              "        [0.        ],\n",
              "        [0.        ],\n",
              "        [0.        ],\n",
              "        [0.        ],\n",
              "        [0.        ],\n",
              "        [0.        ],\n",
              "        [0.        ],\n",
              "        [0.        ],\n",
              "        [0.        ],\n",
              "        [0.        ],\n",
              "        [0.        ],\n",
              "        [0.        ],\n",
              "        [0.        ],\n",
              "        [0.        ],\n",
              "        [0.        ],\n",
              "        [0.        ],\n",
              "        [0.        ],\n",
              "        [0.        ],\n",
              "        [0.        ],\n",
              "        [0.        ]])"
            ]
          },
          "metadata": {},
          "execution_count": 46
        }
      ]
    },
    {
      "cell_type": "code",
      "source": [
        "from sklearn.model_selection import train_test_split"
      ],
      "metadata": {
        "id": "AmnVgYLiNtN1"
      },
      "execution_count": null,
      "outputs": []
    },
    {
      "cell_type": "code",
      "source": [
        "X_test,X_train,y_test,y_train = train_test_split(X,y, test_size=0.2)"
      ],
      "metadata": {
        "id": "usRmwYluM9ow"
      },
      "execution_count": null,
      "outputs": []
    },
    {
      "cell_type": "code",
      "source": [
        "X_train.shape"
      ],
      "metadata": {
        "colab": {
          "base_uri": "https://localhost:8080/"
        },
        "id": "Y-ppwNrMPFEP",
        "outputId": "17bf1e74-a203-4d35-9cd5-ac64a726dc61"
      },
      "execution_count": null,
      "outputs": [
        {
          "output_type": "execute_result",
          "data": {
            "text/plain": [
              "(133928, 128)"
            ]
          },
          "metadata": {},
          "execution_count": 59
        }
      ]
    },
    {
      "cell_type": "code",
      "source": [
        "from sklearn.linear_model import LogisticRegression"
      ],
      "metadata": {
        "id": "nPkmQ1pfPNGR"
      },
      "execution_count": null,
      "outputs": []
    },
    {
      "cell_type": "code",
      "source": [
        "clf = LogisticRegression(random_state=0,multi_class='multinomial')"
      ],
      "metadata": {
        "id": "oPAS2KUtPtnY"
      },
      "execution_count": null,
      "outputs": []
    },
    {
      "cell_type": "code",
      "source": [
        "clf.fit(X_train,y_train)"
      ],
      "metadata": {
        "colab": {
          "base_uri": "https://localhost:8080/",
          "height": 74
        },
        "id": "E8pS5XgDSGzb",
        "outputId": "962660b9-6018-4b6d-cdac-7d2ecabed7b5"
      },
      "execution_count": null,
      "outputs": [
        {
          "output_type": "execute_result",
          "data": {
            "text/plain": [
              "LogisticRegression(multi_class='multinomial', random_state=0)"
            ],
            "text/html": [
              "<style>#sk-container-id-4 {color: black;background-color: white;}#sk-container-id-4 pre{padding: 0;}#sk-container-id-4 div.sk-toggleable {background-color: white;}#sk-container-id-4 label.sk-toggleable__label {cursor: pointer;display: block;width: 100%;margin-bottom: 0;padding: 0.3em;box-sizing: border-box;text-align: center;}#sk-container-id-4 label.sk-toggleable__label-arrow:before {content: \"▸\";float: left;margin-right: 0.25em;color: #696969;}#sk-container-id-4 label.sk-toggleable__label-arrow:hover:before {color: black;}#sk-container-id-4 div.sk-estimator:hover label.sk-toggleable__label-arrow:before {color: black;}#sk-container-id-4 div.sk-toggleable__content {max-height: 0;max-width: 0;overflow: hidden;text-align: left;background-color: #f0f8ff;}#sk-container-id-4 div.sk-toggleable__content pre {margin: 0.2em;color: black;border-radius: 0.25em;background-color: #f0f8ff;}#sk-container-id-4 input.sk-toggleable__control:checked~div.sk-toggleable__content {max-height: 200px;max-width: 100%;overflow: auto;}#sk-container-id-4 input.sk-toggleable__control:checked~label.sk-toggleable__label-arrow:before {content: \"▾\";}#sk-container-id-4 div.sk-estimator input.sk-toggleable__control:checked~label.sk-toggleable__label {background-color: #d4ebff;}#sk-container-id-4 div.sk-label input.sk-toggleable__control:checked~label.sk-toggleable__label {background-color: #d4ebff;}#sk-container-id-4 input.sk-hidden--visually {border: 0;clip: rect(1px 1px 1px 1px);clip: rect(1px, 1px, 1px, 1px);height: 1px;margin: -1px;overflow: hidden;padding: 0;position: absolute;width: 1px;}#sk-container-id-4 div.sk-estimator {font-family: monospace;background-color: #f0f8ff;border: 1px dotted black;border-radius: 0.25em;box-sizing: border-box;margin-bottom: 0.5em;}#sk-container-id-4 div.sk-estimator:hover {background-color: #d4ebff;}#sk-container-id-4 div.sk-parallel-item::after {content: \"\";width: 100%;border-bottom: 1px solid gray;flex-grow: 1;}#sk-container-id-4 div.sk-label:hover label.sk-toggleable__label {background-color: #d4ebff;}#sk-container-id-4 div.sk-serial::before {content: \"\";position: absolute;border-left: 1px solid gray;box-sizing: border-box;top: 0;bottom: 0;left: 50%;z-index: 0;}#sk-container-id-4 div.sk-serial {display: flex;flex-direction: column;align-items: center;background-color: white;padding-right: 0.2em;padding-left: 0.2em;position: relative;}#sk-container-id-4 div.sk-item {position: relative;z-index: 1;}#sk-container-id-4 div.sk-parallel {display: flex;align-items: stretch;justify-content: center;background-color: white;position: relative;}#sk-container-id-4 div.sk-item::before, #sk-container-id-4 div.sk-parallel-item::before {content: \"\";position: absolute;border-left: 1px solid gray;box-sizing: border-box;top: 0;bottom: 0;left: 50%;z-index: -1;}#sk-container-id-4 div.sk-parallel-item {display: flex;flex-direction: column;z-index: 1;position: relative;background-color: white;}#sk-container-id-4 div.sk-parallel-item:first-child::after {align-self: flex-end;width: 50%;}#sk-container-id-4 div.sk-parallel-item:last-child::after {align-self: flex-start;width: 50%;}#sk-container-id-4 div.sk-parallel-item:only-child::after {width: 0;}#sk-container-id-4 div.sk-dashed-wrapped {border: 1px dashed gray;margin: 0 0.4em 0.5em 0.4em;box-sizing: border-box;padding-bottom: 0.4em;background-color: white;}#sk-container-id-4 div.sk-label label {font-family: monospace;font-weight: bold;display: inline-block;line-height: 1.2em;}#sk-container-id-4 div.sk-label-container {text-align: center;}#sk-container-id-4 div.sk-container {/* jupyter's `normalize.less` sets `[hidden] { display: none; }` but bootstrap.min.css set `[hidden] { display: none !important; }` so we also need the `!important` here to be able to override the default hidden behavior on the sphinx rendered scikit-learn.org. See: https://github.com/scikit-learn/scikit-learn/issues/21755 */display: inline-block !important;position: relative;}#sk-container-id-4 div.sk-text-repr-fallback {display: none;}</style><div id=\"sk-container-id-4\" class=\"sk-top-container\"><div class=\"sk-text-repr-fallback\"><pre>LogisticRegression(multi_class=&#x27;multinomial&#x27;, random_state=0)</pre><b>In a Jupyter environment, please rerun this cell to show the HTML representation or trust the notebook. <br />On GitHub, the HTML representation is unable to render, please try loading this page with nbviewer.org.</b></div><div class=\"sk-container\" hidden><div class=\"sk-item\"><div class=\"sk-estimator sk-toggleable\"><input class=\"sk-toggleable__control sk-hidden--visually\" id=\"sk-estimator-id-4\" type=\"checkbox\" checked><label for=\"sk-estimator-id-4\" class=\"sk-toggleable__label sk-toggleable__label-arrow\">LogisticRegression</label><div class=\"sk-toggleable__content\"><pre>LogisticRegression(multi_class=&#x27;multinomial&#x27;, random_state=0)</pre></div></div></div></div></div>"
            ]
          },
          "metadata": {},
          "execution_count": 65
        }
      ]
    },
    {
      "cell_type": "code",
      "source": [
        "dt = np.array(['kzde5577'])\n",
        "pred=vectorizer.transform(dt)\n",
        "clf.predict(pred)"
      ],
      "metadata": {
        "colab": {
          "base_uri": "https://localhost:8080/"
        },
        "id": "NvF7tRRJSkMw",
        "outputId": "5415e906-926b-461d-8acb-42c6dc58aabb"
      },
      "execution_count": null,
      "outputs": [
        {
          "output_type": "execute_result",
          "data": {
            "text/plain": [
              "array([1])"
            ]
          },
          "metadata": {},
          "execution_count": 66
        }
      ]
    },
    {
      "cell_type": "code",
      "source": [
        "y_pred = clf.predict(X_test)\n",
        "y_pred"
      ],
      "metadata": {
        "colab": {
          "base_uri": "https://localhost:8080/"
        },
        "id": "SCAoP1VCTMTX",
        "outputId": "efe40cf8-00ca-4fd3-e61e-b712e635fd5c"
      },
      "execution_count": null,
      "outputs": [
        {
          "output_type": "execute_result",
          "data": {
            "text/plain": [
              "array([0, 0, 1, ..., 1, 1, 1])"
            ]
          },
          "metadata": {},
          "execution_count": 67
        }
      ]
    },
    {
      "cell_type": "code",
      "source": [],
      "metadata": {
        "id": "DV4BPY-SToOs"
      },
      "execution_count": null,
      "outputs": []
    }
  ]
}